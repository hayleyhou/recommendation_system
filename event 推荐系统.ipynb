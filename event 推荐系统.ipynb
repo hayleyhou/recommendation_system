{
 "cells": [
  {
   "cell_type": "markdown",
   "metadata": {},
   "source": [
    "# 导入库"
   ]
  },
  {
   "cell_type": "code",
   "execution_count": 189,
   "metadata": {
    "collapsed": false
   },
   "outputs": [
    {
     "name": "stdout",
     "output_type": "stream",
     "text": [
      "Populating the interactive namespace from numpy and matplotlib\n"
     ]
    }
   ],
   "source": [
    "import pandas as pd\n",
    "import locale\n",
    "from collections import defaultdict\n",
    "import pycountry\n",
    "import scipy.sparse as ss\n",
    "import itertools\n",
    "import cPickle\n",
    "import hashlib\n",
    "import scipy.io as sio\n",
    "import numpy as np\n",
    "%pylab inline"
   ]
  },
  {
   "cell_type": "markdown",
   "metadata": {},
   "source": [
    "# 导入数据"
   ]
  },
  {
   "cell_type": "code",
   "execution_count": 11,
   "metadata": {
    "collapsed": false
   },
   "outputs": [
    {
     "name": "stdout",
     "output_type": "stream",
     "text": [
      "......现在开始载入数据......\n",
      "载入event_attendees.csv成功\n",
      "载入events.csv成功\n",
      "载入test.csv成功\n",
      "载入train.csv成功\n",
      "载入users.csv成功\n",
      "载入user_friends.csv成功\n"
     ]
    }
   ],
   "source": [
    "print \"......现在开始载入数据......\"\n",
    "filename = [\"event_attendees.csv\",\"events.csv\",\"test.csv\",\"train.csv\",\"users.csv\",\n",
    "             \"user_friends.csv\"]\n",
    "\n",
    "reader = pd.read_csv(filename[0],iterator=True)\n",
    "try:\n",
    "    event_attendees = reader.get_chunk(10000000)\n",
    "    print \"载入%s成功\"%filename[0]\n",
    "except StopIteration:\n",
    "    print \"Iteration is stopped\"\n",
    "    \n",
    "reader = pd.read_csv(filename[1],iterator=True)\n",
    "try:\n",
    "    dfevents = reader.get_chunk(10000000)\n",
    "    print \"载入%s成功\"%filename[1]\n",
    "except StopIteration:\n",
    "    print \"Iteration is stopped\"\n",
    "    \n",
    "reader = pd.read_csv(filename[2],iterator=True)\n",
    "try:\n",
    "    test = reader.get_chunk(10000000)\n",
    "    print \"载入%s成功\"%filename[2]\n",
    "except StopIteration:\n",
    "    print \"Iteration is stopped\"    \n",
    "    \n",
    "reader = pd.read_csv(filename[3],iterator=True)\n",
    "try:\n",
    "    train = reader.get_chunk(10000000)\n",
    "    print \"载入%s成功\"%filename[3]\n",
    "except StopIteration:\n",
    "    print \"Iteration is stopped\"    \n",
    "    \n",
    "reader = pd.read_csv(filename[4],iterator=True)\n",
    "try:\n",
    "    dfusers = reader.get_chunk(10000000)\n",
    "    print \"载入%s成功\"%filename[4]\n",
    "except StopIteration:\n",
    "    print \"Iteration is stopped\"\n",
    "    \n",
    "reader = pd.read_csv(filename[5],iterator=True)\n",
    "try:\n",
    "    user_friends = reader.get_chunk(10000000)\n",
    "    print \"载入%s成功\"%filename[5]\n",
    "except StopIteration:\n",
    "    print \"Iteration is stopped\""
   ]
  },
  {
   "cell_type": "code",
   "execution_count": null,
   "metadata": {
    "collapsed": false
   },
   "outputs": [],
   "source": []
  },
  {
   "cell_type": "markdown",
   "metadata": {},
   "source": [
    "# 数据清洗"
   ]
  },
  {
   "cell_type": "markdown",
   "metadata": {},
   "source": [
    "### 处理users"
   ]
  },
  {
   "cell_type": "code",
   "execution_count": 281,
   "metadata": {
    "collapsed": false
   },
   "outputs": [
    {
     "name": "stdout",
     "output_type": "stream",
     "text": [
      "现在开始对users的数据进行清洗和转换\n"
     ]
    }
   ],
   "source": [
    "print \"现在开始对users的数据进行清洗和转换\""
   ]
  },
  {
   "cell_type": "code",
   "execution_count": 282,
   "metadata": {
    "collapsed": false
   },
   "outputs": [
    {
     "name": "stdout",
     "output_type": "stream",
     "text": [
      "查看users数据\n"
     ]
    },
    {
     "data": {
      "text/html": [
       "<div>\n",
       "<table border=\"1\" class=\"dataframe\">\n",
       "  <thead>\n",
       "    <tr style=\"text-align: right;\">\n",
       "      <th></th>\n",
       "      <th>user_id</th>\n",
       "      <th>locale</th>\n",
       "      <th>birthyear</th>\n",
       "      <th>gender</th>\n",
       "      <th>joinedAt</th>\n",
       "      <th>location</th>\n",
       "      <th>timezone</th>\n",
       "    </tr>\n",
       "  </thead>\n",
       "  <tbody>\n",
       "    <tr>\n",
       "      <th>0</th>\n",
       "      <td>3197468391</td>\n",
       "      <td>id_ID</td>\n",
       "      <td>1993</td>\n",
       "      <td>male</td>\n",
       "      <td>2012-10-02T06:40:55.524Z</td>\n",
       "      <td>Medan  Indonesia</td>\n",
       "      <td>480.0</td>\n",
       "    </tr>\n",
       "    <tr>\n",
       "      <th>1</th>\n",
       "      <td>3537982273</td>\n",
       "      <td>id_ID</td>\n",
       "      <td>1992</td>\n",
       "      <td>male</td>\n",
       "      <td>2012-09-29T18:03:12.111Z</td>\n",
       "      <td>Medan  Indonesia</td>\n",
       "      <td>420.0</td>\n",
       "    </tr>\n",
       "    <tr>\n",
       "      <th>2</th>\n",
       "      <td>823183725</td>\n",
       "      <td>en_US</td>\n",
       "      <td>1975</td>\n",
       "      <td>male</td>\n",
       "      <td>2012-10-06T03:14:07.149Z</td>\n",
       "      <td>Stratford  Ontario</td>\n",
       "      <td>-240.0</td>\n",
       "    </tr>\n",
       "    <tr>\n",
       "      <th>3</th>\n",
       "      <td>1872223848</td>\n",
       "      <td>en_US</td>\n",
       "      <td>1991</td>\n",
       "      <td>female</td>\n",
       "      <td>2012-11-04T08:59:43.783Z</td>\n",
       "      <td>Tehran  Iran</td>\n",
       "      <td>210.0</td>\n",
       "    </tr>\n",
       "    <tr>\n",
       "      <th>4</th>\n",
       "      <td>3429017717</td>\n",
       "      <td>id_ID</td>\n",
       "      <td>1995</td>\n",
       "      <td>female</td>\n",
       "      <td>2012-09-10T16:06:53.132Z</td>\n",
       "      <td>NaN</td>\n",
       "      <td>420.0</td>\n",
       "    </tr>\n",
       "  </tbody>\n",
       "</table>\n",
       "</div>"
      ],
      "text/plain": [
       "      user_id locale birthyear  gender                  joinedAt  \\\n",
       "0  3197468391  id_ID      1993    male  2012-10-02T06:40:55.524Z   \n",
       "1  3537982273  id_ID      1992    male  2012-09-29T18:03:12.111Z   \n",
       "2   823183725  en_US      1975    male  2012-10-06T03:14:07.149Z   \n",
       "3  1872223848  en_US      1991  female  2012-11-04T08:59:43.783Z   \n",
       "4  3429017717  id_ID      1995  female  2012-09-10T16:06:53.132Z   \n",
       "\n",
       "             location  timezone  \n",
       "0    Medan  Indonesia     480.0  \n",
       "1    Medan  Indonesia     420.0  \n",
       "2  Stratford  Ontario    -240.0  \n",
       "3        Tehran  Iran     210.0  \n",
       "4                 NaN     420.0  "
      ]
     },
     "execution_count": 282,
     "metadata": {},
     "output_type": "execute_result"
    }
   ],
   "source": [
    "print '查看users数据'\n",
    "dfusers.head()"
   ]
  },
  {
   "cell_type": "code",
   "execution_count": 283,
   "metadata": {
    "collapsed": false
   },
   "outputs": [
    {
     "name": "stdout",
     "output_type": "stream",
     "text": [
      "利用locale包处理users.locale\n"
     ]
    }
   ],
   "source": [
    "'''users的locale需要转为数字，利用locale这个包'''\n",
    "print \"利用locale包处理users.locale\"\n",
    "localemap = defaultdict(int)\n",
    "for i, l in enumerate(locale.locale_alias.keys()):\n",
    "    localemap[l] = i\n",
    "dfusers.locale = dfusers.locale.apply(lambda x: localemap[x.lower()])"
   ]
  },
  {
   "cell_type": "code",
   "execution_count": 284,
   "metadata": {
    "collapsed": false
   },
   "outputs": [
    {
     "name": "stdout",
     "output_type": "stream",
     "text": [
      "把users.birthyear转为int类型，然后看一下是否存在异常值和空值\n",
      "invalid literal for int() with base 10: 'None'\n"
     ]
    }
   ],
   "source": [
    "print \"把users.birthyear转为int类型，然后看一下是否存在异常值和空值\"\n",
    "try:\n",
    "    dfusers.birthyear = dfusers.birthyear.apply(lambda x: int(x))\n",
    "except Exception as e:\n",
    "    print e"
   ]
  },
  {
   "cell_type": "code",
   "execution_count": 285,
   "metadata": {
    "collapsed": false
   },
   "outputs": [],
   "source": [
    "'''users.birthyear存在不正规的数据，用正规年份表示的转为int类型，否则全部为平均年份'''\n",
    "def getbirthyear(x):\n",
    "    try:\n",
    "        return int(x)\n",
    "    except:\n",
    "        return 0\n",
    "dfusers.birthyear = dfusers.birthyear.apply(lambda x: getbirthyear(x))\n",
    "dfusers_birthyear_avg = float(dfusers.birthyear.sum()/np.array(dfusers.birthyear).nonzero()[0].shape[0])\n",
    "def getbirthyear_avg(x):\n",
    "    if x > 0:\n",
    "        return x\n",
    "    else:\n",
    "        return users_birthyear_avg\n",
    "dfusers.birthyear = dfusers.birthyear.apply(lambda x: getbirthyear_avg(x))"
   ]
  },
  {
   "cell_type": "code",
   "execution_count": 286,
   "metadata": {
    "collapsed": false
   },
   "outputs": [
    {
     "name": "stdout",
     "output_type": "stream",
     "text": [
      "gender的数据全部正常，只需要转为0，1就可以了\n"
     ]
    }
   ],
   "source": [
    "dfusers.gender.value_counts()\n",
    "print \"gender的数据全部正常，只需要转为0，1就可以了\"\n",
    "dfusers['female'] = pd.get_dummies(dfusers.gender)['female']\n",
    "dfusers['male'] = pd.get_dummies(dfusers.gender)['male']"
   ]
  },
  {
   "cell_type": "code",
   "execution_count": 287,
   "metadata": {
    "collapsed": false
   },
   "outputs": [
    {
     "name": "stdout",
     "output_type": "stream",
     "text": [
      "处理joinedat，提取年和月\n",
      "57\n",
      "存在缺失值\n"
     ]
    }
   ],
   "source": [
    "print \"处理joinedat，提取年和月\"\n",
    "print sum(dfusers.joinedAt.isnull())\n",
    "print \"存在缺失值\"\n",
    "def getyear(x):\n",
    "    try:\n",
    "        return datetime.datetime.strptime(x, \"%Y-%m-%dT%H:%M:%S.%fZ\").year\n",
    "    except:\n",
    "        return 0\n",
    "def getmonth(x):\n",
    "    try:\n",
    "        return datetime.datetime.strptime(x, \"%Y-%m-%dT%H:%M:%S.%fZ\").month\n",
    "    except:\n",
    "        return 0\n",
    "dfusers['year'] = dfusers.joinedAt.apply(lambda x: getyear(x))\n",
    "dfusers['month'] = dfusers.joinedAt.apply(lambda x: getmonth(x))"
   ]
  },
  {
   "cell_type": "code",
   "execution_count": 288,
   "metadata": {
    "collapsed": false
   },
   "outputs": [
    {
     "name": "stdout",
     "output_type": "stream",
     "text": [
      "处理locaiton\n"
     ]
    }
   ],
   "source": [
    "print \"处理locaiton\"\n",
    "countryIdMap = defaultdict(int)\n",
    "ctryIdx = defaultdict(int)\n",
    "for i, c in enumerate(pycountry.countries):\n",
    "    countryIdMap[c.name.lower()] = i + 1\n",
    "    if c.name.lower() == \"usa\":\n",
    "        ctryIdx[\"US\"] = i\n",
    "    if c.name.lower() == \"canada\":\n",
    "        ctryIdx[\"CA\"] = i\n",
    "for cc in ctryIdx.keys():\n",
    "    for s in pycountry.subdivisions.get(country_code=cc):\n",
    "        countryIdMap[s.name.lower()] = ctryIdx[cc] + 1\n",
    "def getCountryId(location):\n",
    "    if (isinstance(location, str)\n",
    "        and len(location.strip()) > 0\n",
    "        and location.rfind(\"  \") > -1):\n",
    "          return countryIdMap[location[location.rindex(\"  \") + 2:].lower()]\n",
    "    else:\n",
    "          return 0\n",
    "dfusers['location'] = dfusers.location.apply(lambda x: getCountryId(x))"
   ]
  },
  {
   "cell_type": "code",
   "execution_count": 289,
   "metadata": {
    "collapsed": false
   },
   "outputs": [
    {
     "name": "stdout",
     "output_type": "stream",
     "text": [
      "处理timezone\n"
     ]
    }
   ],
   "source": [
    "print \"处理timezone\"\n",
    "def getTimezoneInt(timezone):\n",
    "    try:\n",
    "        return int(timezone)\n",
    "    except:\n",
    "        return 0\n",
    "dfusers.timezone = dfusers.timezone.apply(lambda x: getTimezoneInt(x))"
   ]
  },
  {
   "cell_type": "markdown",
   "metadata": {},
   "source": [
    "### 处理events"
   ]
  },
  {
   "cell_type": "code",
   "execution_count": 290,
   "metadata": {
    "collapsed": false
   },
   "outputs": [
    {
     "name": "stdout",
     "output_type": "stream",
     "text": [
      "查看events数据\n"
     ]
    },
    {
     "data": {
      "text/html": [
       "<div>\n",
       "<table border=\"1\" class=\"dataframe\">\n",
       "  <thead>\n",
       "    <tr style=\"text-align: right;\">\n",
       "      <th></th>\n",
       "      <th>event_id</th>\n",
       "      <th>user_id</th>\n",
       "      <th>start_time</th>\n",
       "      <th>city</th>\n",
       "      <th>state</th>\n",
       "      <th>zip</th>\n",
       "      <th>country</th>\n",
       "      <th>lat</th>\n",
       "      <th>lng</th>\n",
       "      <th>c_1</th>\n",
       "      <th>...</th>\n",
       "      <th>c_92</th>\n",
       "      <th>c_93</th>\n",
       "      <th>c_94</th>\n",
       "      <th>c_95</th>\n",
       "      <th>c_96</th>\n",
       "      <th>c_97</th>\n",
       "      <th>c_98</th>\n",
       "      <th>c_99</th>\n",
       "      <th>c_100</th>\n",
       "      <th>c_other</th>\n",
       "    </tr>\n",
       "  </thead>\n",
       "  <tbody>\n",
       "    <tr>\n",
       "      <th>0</th>\n",
       "      <td>684921758</td>\n",
       "      <td>3647864012</td>\n",
       "      <td>2012-10-31T00:00:00.001Z</td>\n",
       "      <td>NaN</td>\n",
       "      <td>NaN</td>\n",
       "      <td>NaN</td>\n",
       "      <td>NaN</td>\n",
       "      <td>NaN</td>\n",
       "      <td>NaN</td>\n",
       "      <td>2</td>\n",
       "      <td>...</td>\n",
       "      <td>0</td>\n",
       "      <td>1</td>\n",
       "      <td>0</td>\n",
       "      <td>0</td>\n",
       "      <td>0</td>\n",
       "      <td>0</td>\n",
       "      <td>0</td>\n",
       "      <td>0</td>\n",
       "      <td>0</td>\n",
       "      <td>9</td>\n",
       "    </tr>\n",
       "    <tr>\n",
       "      <th>1</th>\n",
       "      <td>244999119</td>\n",
       "      <td>3476440521</td>\n",
       "      <td>2012-11-03T00:00:00.001Z</td>\n",
       "      <td>NaN</td>\n",
       "      <td>NaN</td>\n",
       "      <td>NaN</td>\n",
       "      <td>NaN</td>\n",
       "      <td>NaN</td>\n",
       "      <td>NaN</td>\n",
       "      <td>2</td>\n",
       "      <td>...</td>\n",
       "      <td>0</td>\n",
       "      <td>0</td>\n",
       "      <td>0</td>\n",
       "      <td>0</td>\n",
       "      <td>0</td>\n",
       "      <td>0</td>\n",
       "      <td>0</td>\n",
       "      <td>0</td>\n",
       "      <td>0</td>\n",
       "      <td>7</td>\n",
       "    </tr>\n",
       "    <tr>\n",
       "      <th>2</th>\n",
       "      <td>3928440935</td>\n",
       "      <td>517514445</td>\n",
       "      <td>2012-11-05T00:00:00.001Z</td>\n",
       "      <td>NaN</td>\n",
       "      <td>NaN</td>\n",
       "      <td>NaN</td>\n",
       "      <td>NaN</td>\n",
       "      <td>NaN</td>\n",
       "      <td>NaN</td>\n",
       "      <td>0</td>\n",
       "      <td>...</td>\n",
       "      <td>0</td>\n",
       "      <td>0</td>\n",
       "      <td>0</td>\n",
       "      <td>0</td>\n",
       "      <td>0</td>\n",
       "      <td>0</td>\n",
       "      <td>0</td>\n",
       "      <td>0</td>\n",
       "      <td>0</td>\n",
       "      <td>12</td>\n",
       "    </tr>\n",
       "    <tr>\n",
       "      <th>3</th>\n",
       "      <td>2582345152</td>\n",
       "      <td>781585781</td>\n",
       "      <td>2012-10-30T00:00:00.001Z</td>\n",
       "      <td>NaN</td>\n",
       "      <td>NaN</td>\n",
       "      <td>NaN</td>\n",
       "      <td>NaN</td>\n",
       "      <td>NaN</td>\n",
       "      <td>NaN</td>\n",
       "      <td>1</td>\n",
       "      <td>...</td>\n",
       "      <td>0</td>\n",
       "      <td>0</td>\n",
       "      <td>0</td>\n",
       "      <td>0</td>\n",
       "      <td>0</td>\n",
       "      <td>0</td>\n",
       "      <td>0</td>\n",
       "      <td>0</td>\n",
       "      <td>0</td>\n",
       "      <td>8</td>\n",
       "    </tr>\n",
       "    <tr>\n",
       "      <th>4</th>\n",
       "      <td>1051165850</td>\n",
       "      <td>1016098580</td>\n",
       "      <td>2012-09-27T00:00:00.001Z</td>\n",
       "      <td>NaN</td>\n",
       "      <td>NaN</td>\n",
       "      <td>NaN</td>\n",
       "      <td>NaN</td>\n",
       "      <td>NaN</td>\n",
       "      <td>NaN</td>\n",
       "      <td>1</td>\n",
       "      <td>...</td>\n",
       "      <td>0</td>\n",
       "      <td>0</td>\n",
       "      <td>0</td>\n",
       "      <td>0</td>\n",
       "      <td>0</td>\n",
       "      <td>0</td>\n",
       "      <td>0</td>\n",
       "      <td>0</td>\n",
       "      <td>0</td>\n",
       "      <td>9</td>\n",
       "    </tr>\n",
       "  </tbody>\n",
       "</table>\n",
       "<p>5 rows × 110 columns</p>\n",
       "</div>"
      ],
      "text/plain": [
       "     event_id     user_id                start_time city state  zip country  \\\n",
       "0   684921758  3647864012  2012-10-31T00:00:00.001Z  NaN   NaN  NaN     NaN   \n",
       "1   244999119  3476440521  2012-11-03T00:00:00.001Z  NaN   NaN  NaN     NaN   \n",
       "2  3928440935   517514445  2012-11-05T00:00:00.001Z  NaN   NaN  NaN     NaN   \n",
       "3  2582345152   781585781  2012-10-30T00:00:00.001Z  NaN   NaN  NaN     NaN   \n",
       "4  1051165850  1016098580  2012-09-27T00:00:00.001Z  NaN   NaN  NaN     NaN   \n",
       "\n",
       "   lat  lng  c_1   ...     c_92  c_93  c_94  c_95  c_96  c_97  c_98  c_99  \\\n",
       "0  NaN  NaN    2   ...        0     1     0     0     0     0     0     0   \n",
       "1  NaN  NaN    2   ...        0     0     0     0     0     0     0     0   \n",
       "2  NaN  NaN    0   ...        0     0     0     0     0     0     0     0   \n",
       "3  NaN  NaN    1   ...        0     0     0     0     0     0     0     0   \n",
       "4  NaN  NaN    1   ...        0     0     0     0     0     0     0     0   \n",
       "\n",
       "   c_100  c_other  \n",
       "0      0        9  \n",
       "1      0        7  \n",
       "2      0       12  \n",
       "3      0        8  \n",
       "4      0        9  \n",
       "\n",
       "[5 rows x 110 columns]"
      ]
     },
     "execution_count": 290,
     "metadata": {},
     "output_type": "execute_result"
    }
   ],
   "source": [
    "print '查看events数据'\n",
    "dfevents.head()"
   ]
  },
  {
   "cell_type": "code",
   "execution_count": 291,
   "metadata": {
    "collapsed": false
   },
   "outputs": [],
   "source": [
    "dfevents['year'] = dfevents.start_time.apply(lambda x: getyear(x))\n",
    "dfevents['month'] = dfevents.start_time.apply(lambda x: getmonth(x))"
   ]
  },
  {
   "cell_type": "code",
   "execution_count": 292,
   "metadata": {
    "collapsed": true
   },
   "outputs": [],
   "source": [
    "dfevents = dfevents.drop(['zip'],axis=1)"
   ]
  },
  {
   "cell_type": "code",
   "execution_count": 293,
   "metadata": {
    "collapsed": false
   },
   "outputs": [
    {
     "name": "stdout",
     "output_type": "stream",
     "text": [
      "处理city， state， zip， country 不知道为什么要这么干\n"
     ]
    }
   ],
   "source": [
    "print \"处理city， state， zip， country 不知道为什么要这么干\"\n",
    "def getFeatureHash(value):\n",
    "    try:\n",
    "        return int(hashlib.sha224(value).hexdigest()[0:4], 16)\n",
    "    except:\n",
    "        return -1 \n",
    "dfevents.city = dfevents.city.apply(lambda x: getFeatureHash(x))\n",
    "dfevents.state = dfevents.state.apply(lambda x: getFeatureHash(x))\n",
    "dfevents.country = dfevents.country.apply(lambda x: getFeatureHash(x))"
   ]
  },
  {
   "cell_type": "code",
   "execution_count": 392,
   "metadata": {
    "collapsed": false
   },
   "outputs": [
    {
     "name": "stdout",
     "output_type": "stream",
     "text": [
      "处理lat, lng\n"
     ]
    }
   ],
   "source": [
    "print \"处理lat, lng\"\n",
    "def getFloatValue(value):\n",
    "    try:\n",
    "        return float(value)\n",
    "\n",
    "    except:\n",
    "        return 0.01\n",
    "#dfevents.lat = dfevents.lat.fillna(0)\n",
    "#dfevents.lng = dfevents.lng.fillna(0)\n",
    "dfevents.lat = dfevents.lat.apply(lambda x: getFloatValue(x))\n",
    "dfevents.lng = dfevents.lng.apply(lambda x: getFloatValue(x))"
   ]
  },
  {
   "cell_type": "markdown",
   "metadata": {},
   "source": [
    "## 建模，构建相似矩阵"
   ]
  },
  {
   "cell_type": "markdown",
   "metadata": {},
   "source": [
    "### 统计训练集和测试集中有多少独立的用户"
   ]
  },
  {
   "cell_type": "code",
   "execution_count": 250,
   "metadata": {
    "collapsed": false
   },
   "outputs": [
    {
     "name": "stdout",
     "output_type": "stream",
     "text": [
      "\n",
      "得到一个user_eventscores矩阵，行是user，列是event，数字是user对event的打分\n",
      "\n",
      "只有一个user参加过的event以及只参加过一个event的user不考虑\n",
      "\n"
     ]
    }
   ],
   "source": [
    "print '''\n",
    "得到一个user_eventscores矩阵，行是user，列是event，数字是user对event的打分\n",
    "\n",
    "只有一个user参加过的event以及只参加过一个event的user不考虑\n",
    "'''"
   ]
  },
  {
   "cell_type": "code",
   "execution_count": 229,
   "metadata": {
    "collapsed": false
   },
   "outputs": [
    {
     "data": {
      "text/html": [
       "<div>\n",
       "<table border=\"1\" class=\"dataframe\">\n",
       "  <thead>\n",
       "    <tr style=\"text-align: right;\">\n",
       "      <th></th>\n",
       "      <th>user</th>\n",
       "      <th>event</th>\n",
       "      <th>invited</th>\n",
       "      <th>timestamp</th>\n",
       "      <th>interested</th>\n",
       "      <th>not_interested</th>\n",
       "      <th>testtrain</th>\n",
       "    </tr>\n",
       "  </thead>\n",
       "  <tbody>\n",
       "    <tr>\n",
       "      <th>0</th>\n",
       "      <td>3044012</td>\n",
       "      <td>1918771225</td>\n",
       "      <td>0</td>\n",
       "      <td>2012-10-02 15:53:05.754000+00:00</td>\n",
       "      <td>0</td>\n",
       "      <td>0</td>\n",
       "      <td>train</td>\n",
       "    </tr>\n",
       "    <tr>\n",
       "      <th>1</th>\n",
       "      <td>3044012</td>\n",
       "      <td>1502284248</td>\n",
       "      <td>0</td>\n",
       "      <td>2012-10-02 15:53:05.754000+00:00</td>\n",
       "      <td>0</td>\n",
       "      <td>0</td>\n",
       "      <td>train</td>\n",
       "    </tr>\n",
       "    <tr>\n",
       "      <th>2</th>\n",
       "      <td>3044012</td>\n",
       "      <td>2529072432</td>\n",
       "      <td>0</td>\n",
       "      <td>2012-10-02 15:53:05.754000+00:00</td>\n",
       "      <td>1</td>\n",
       "      <td>0</td>\n",
       "      <td>train</td>\n",
       "    </tr>\n",
       "    <tr>\n",
       "      <th>3</th>\n",
       "      <td>3044012</td>\n",
       "      <td>3072478280</td>\n",
       "      <td>0</td>\n",
       "      <td>2012-10-02 15:53:05.754000+00:00</td>\n",
       "      <td>0</td>\n",
       "      <td>0</td>\n",
       "      <td>train</td>\n",
       "    </tr>\n",
       "    <tr>\n",
       "      <th>4</th>\n",
       "      <td>3044012</td>\n",
       "      <td>1390707377</td>\n",
       "      <td>0</td>\n",
       "      <td>2012-10-02 15:53:05.754000+00:00</td>\n",
       "      <td>0</td>\n",
       "      <td>0</td>\n",
       "      <td>train</td>\n",
       "    </tr>\n",
       "  </tbody>\n",
       "</table>\n",
       "</div>"
      ],
      "text/plain": [
       "      user       event  invited                         timestamp  interested  \\\n",
       "0  3044012  1918771225        0  2012-10-02 15:53:05.754000+00:00           0   \n",
       "1  3044012  1502284248        0  2012-10-02 15:53:05.754000+00:00           0   \n",
       "2  3044012  2529072432        0  2012-10-02 15:53:05.754000+00:00           1   \n",
       "3  3044012  3072478280        0  2012-10-02 15:53:05.754000+00:00           0   \n",
       "4  3044012  1390707377        0  2012-10-02 15:53:05.754000+00:00           0   \n",
       "\n",
       "   not_interested testtrain  \n",
       "0               0     train  \n",
       "1               0     train  \n",
       "2               0     train  \n",
       "3               0     train  \n",
       "4               0     train  "
      ]
     },
     "execution_count": 229,
     "metadata": {},
     "output_type": "execute_result"
    }
   ],
   "source": [
    "train.head()"
   ]
  },
  {
   "cell_type": "code",
   "execution_count": 230,
   "metadata": {
    "collapsed": true
   },
   "outputs": [],
   "source": [
    "uniqueusers = train.user.unique()\n",
    "uniqueevent = train.event.unique()"
   ]
  },
  {
   "cell_type": "code",
   "execution_count": 260,
   "metadata": {
    "collapsed": false
   },
   "outputs": [],
   "source": [
    "eventforuser = defaultdict(set)\n",
    "userforevent = defaultdict(set)\n",
    "for i in range(len(train)):\n",
    "    user = train.user[i]\n",
    "    event = train.event[i]\n",
    "    eventforuser[user].add(event)\n",
    "    userforevent[event].add(user)\n",
    "userindex = dict()\n",
    "eventindex = dict()\n",
    "for index, user in enumerate(uniqueusers):\n",
    "    userindex[user] = index\n",
    "for index, event in enumerate(uniqueevent):\n",
    "    eventindex[event] = index"
   ]
  },
  {
   "cell_type": "code",
   "execution_count": 271,
   "metadata": {
    "collapsed": false
   },
   "outputs": [
    {
     "name": "stdout",
     "output_type": "stream",
     "text": [
      "usereventscores矩阵完成\n"
     ]
    }
   ],
   "source": [
    "usereventscores = np.zeros((len(uniqueusers),len(uniqueevent)))\n",
    "for i in range(len(train)):\n",
    "    user = train.user[i]\n",
    "    event = train.event[i]\n",
    "    row = userindex[user]\n",
    "    col = eventindex[event]\n",
    "    usereventscores[row, col] = train.interested[i] -train.not_interested[i]\n",
    "print \"usereventscores矩阵完成\""
   ]
  },
  {
   "cell_type": "code",
   "execution_count": 277,
   "metadata": {
    "collapsed": false
   },
   "outputs": [
    {
     "name": "stdout",
     "output_type": "stream",
     "text": [
      "已把只有一人参与的event和只参与一个活动的user除去\n"
     ]
    }
   ],
   "source": [
    "uniqueuserpair = set()\n",
    "uniqueeventpair = set()\n",
    "for user in eventforuser:\n",
    "    events = eventforuser[user]\n",
    "    if len(events) > 2:\n",
    "        uniqueeventpair.update(itertools.combinations(events, 2))\n",
    "for event in userforevent:\n",
    "    users = userforevent[event]\n",
    "    if len(users) > 2:\n",
    "        uniqueuserpair.update(itertools.combinations(users, 2))\n",
    "print \"已把只有一人参与的event和只参与一个活动的user除去\""
   ]
  },
  {
   "cell_type": "markdown",
   "metadata": {},
   "source": [
    "### 构建user-user相似度矩阵"
   ]
  },
  {
   "cell_type": "code",
   "execution_count": 295,
   "metadata": {
    "collapsed": false
   },
   "outputs": [],
   "source": [
    "from sklearn.preprocessing import normalize"
   ]
  },
  {
   "cell_type": "code",
   "execution_count": 298,
   "metadata": {
    "collapsed": false
   },
   "outputs": [],
   "source": [
    "dfusers = dfusers.drop(['gender','joinedAt'],axis=1)"
   ]
  },
  {
   "cell_type": "code",
   "execution_count": 330,
   "metadata": {
    "collapsed": false
   },
   "outputs": [
    {
     "name": "stdout",
     "output_type": "stream",
     "text": [
      "\n",
      "不明白为什么离散的locale，country都可以正则化和怎么求余弦相似度\n",
      "\n"
     ]
    }
   ],
   "source": [
    "print '''\n",
    "不明白为什么离散的locale，country都可以正则化和怎么求余弦相似度\n",
    "'''"
   ]
  },
  {
   "cell_type": "code",
   "execution_count": 329,
   "metadata": {
    "collapsed": false
   },
   "outputs": [
    {
     "data": {
      "text/html": [
       "<div>\n",
       "<table border=\"1\" class=\"dataframe\">\n",
       "  <thead>\n",
       "    <tr style=\"text-align: right;\">\n",
       "      <th></th>\n",
       "      <th>user_id</th>\n",
       "      <th>locale</th>\n",
       "      <th>birthyear</th>\n",
       "      <th>location</th>\n",
       "      <th>timezone</th>\n",
       "      <th>female</th>\n",
       "      <th>male</th>\n",
       "      <th>year</th>\n",
       "      <th>month</th>\n",
       "    </tr>\n",
       "  </thead>\n",
       "  <tbody>\n",
       "    <tr>\n",
       "      <th>0</th>\n",
       "      <td>3197468391</td>\n",
       "      <td>229</td>\n",
       "      <td>1993.0</td>\n",
       "      <td>104</td>\n",
       "      <td>480</td>\n",
       "      <td>0.0</td>\n",
       "      <td>1.0</td>\n",
       "      <td>2012</td>\n",
       "      <td>10</td>\n",
       "    </tr>\n",
       "    <tr>\n",
       "      <th>1</th>\n",
       "      <td>3537982273</td>\n",
       "      <td>229</td>\n",
       "      <td>1992.0</td>\n",
       "      <td>104</td>\n",
       "      <td>420</td>\n",
       "      <td>0.0</td>\n",
       "      <td>1.0</td>\n",
       "      <td>2012</td>\n",
       "      <td>9</td>\n",
       "    </tr>\n",
       "    <tr>\n",
       "      <th>2</th>\n",
       "      <td>823183725</td>\n",
       "      <td>319</td>\n",
       "      <td>1975.0</td>\n",
       "      <td>40</td>\n",
       "      <td>-240</td>\n",
       "      <td>0.0</td>\n",
       "      <td>1.0</td>\n",
       "      <td>2012</td>\n",
       "      <td>10</td>\n",
       "    </tr>\n",
       "    <tr>\n",
       "      <th>3</th>\n",
       "      <td>1872223848</td>\n",
       "      <td>319</td>\n",
       "      <td>1991.0</td>\n",
       "      <td>0</td>\n",
       "      <td>210</td>\n",
       "      <td>1.0</td>\n",
       "      <td>0.0</td>\n",
       "      <td>2012</td>\n",
       "      <td>11</td>\n",
       "    </tr>\n",
       "    <tr>\n",
       "      <th>4</th>\n",
       "      <td>3429017717</td>\n",
       "      <td>229</td>\n",
       "      <td>1995.0</td>\n",
       "      <td>0</td>\n",
       "      <td>420</td>\n",
       "      <td>1.0</td>\n",
       "      <td>0.0</td>\n",
       "      <td>2012</td>\n",
       "      <td>9</td>\n",
       "    </tr>\n",
       "  </tbody>\n",
       "</table>\n",
       "</div>"
      ],
      "text/plain": [
       "      user_id  locale  birthyear  location  timezone  female  male  year  \\\n",
       "0  3197468391     229     1993.0       104       480     0.0   1.0  2012   \n",
       "1  3537982273     229     1992.0       104       420     0.0   1.0  2012   \n",
       "2   823183725     319     1975.0        40      -240     0.0   1.0  2012   \n",
       "3  1872223848     319     1991.0         0       210     1.0   0.0  2012   \n",
       "4  3429017717     229     1995.0         0       420     1.0   0.0  2012   \n",
       "\n",
       "   month  \n",
       "0     10  \n",
       "1      9  \n",
       "2     10  \n",
       "3     11  \n",
       "4      9  "
      ]
     },
     "execution_count": 329,
     "metadata": {},
     "output_type": "execute_result"
    }
   ],
   "source": [
    "dfusers.head()"
   ]
  },
  {
   "cell_type": "code",
   "execution_count": 439,
   "metadata": {
    "collapsed": false
   },
   "outputs": [],
   "source": [
    "#只考虑train.csv中出现过的user\n",
    "usermatrix = np.zeros((len(uniqueusers),len(dfusers.columns)-1))\n",
    "for i in range(len(dfusers)):\n",
    "    user = dfusers.user_id[i]\n",
    "    if userindex.has_key(user):\n",
    "        row = userindex[user]\n",
    "        usermatrix[row,0] = dfusers.locale[row]\n",
    "        usermatrix[row,1] = dfusers.birthyear[row]\n",
    "        usermatrix[row,2] = dfusers.location[row]\n",
    "        usermatrix[row,3] = dfusers.timezone[row]\n",
    "        usermatrix[row,4] = dfusers.female[row]\n",
    "        usermatrix[row,5] = dfusers.male[row]\n",
    "        usermatrix[row,6] = dfusers.year[row]\n",
    "        usermatrix[row,7] = dfusers.month[row]"
   ]
  },
  {
   "cell_type": "code",
   "execution_count": 440,
   "metadata": {
    "collapsed": false
   },
   "outputs": [],
   "source": [
    "#归一化矩阵\n",
    "usermatrix = normalize(usermatrix, norm=\"l1\", axis=0, copy=False)"
   ]
  },
  {
   "cell_type": "code",
   "execution_count": 441,
   "metadata": {
    "collapsed": false
   },
   "outputs": [],
   "source": [
    "#皮尔森相似度求user-user相似度矩阵,为了方便和速度，只计算uniqueuserpair中的\n",
    "import scipy.spatial.distance as ssd\n",
    "usersimmatrix = np.zeros((len(userindex),len(userindex)))\n",
    "for i in range(0,usersimmatrix.shape[0]):\n",
    "    usersimmatrix[i, i] = 1.0\n",
    "for user1, user2 in uniqueuserpair:\n",
    "    row = userindex[user1]\n",
    "    col = userindex[user2]\n",
    "    sim = ssd.correlation(usermatrix[row],usermatrix[col])\n",
    "    usersimmatrix[row, col] = sim\n",
    "    usersimmatrix[col, row] = sim"
   ]
  },
  {
   "cell_type": "markdown",
   "metadata": {},
   "source": [
    "### 构建event-event相似矩阵"
   ]
  },
  {
   "cell_type": "code",
   "execution_count": 374,
   "metadata": {
    "collapsed": false
   },
   "outputs": [
    {
     "name": "stdout",
     "output_type": "stream",
     "text": [
      "\n",
      "      构建event-event相似度，注意这里有2种相似度：\n",
      "      1）由用户-event行为，类似协同过滤算出的相似度\n",
      "      2）由event本身的内容(event信息)计算出的event-event相似度\n",
      "    \n"
     ]
    }
   ],
   "source": [
    "print \"\"\"\n",
    "      构建event-event相似度，注意这里有2种相似度：\n",
    "      1）由用户-event行为，类似协同过滤算出的相似度\n",
    "      2）由event本身的内容(event信息)计算出的event-event相似度\n",
    "    \"\"\""
   ]
  },
  {
   "cell_type": "code",
   "execution_count": 638,
   "metadata": {
    "collapsed": false
   },
   "outputs": [
    {
     "data": {
      "text/html": [
       "<div>\n",
       "<table border=\"1\" class=\"dataframe\">\n",
       "  <thead>\n",
       "    <tr style=\"text-align: right;\">\n",
       "      <th></th>\n",
       "      <th>event_id</th>\n",
       "      <th>user_id</th>\n",
       "      <th>start_time</th>\n",
       "      <th>city</th>\n",
       "      <th>state</th>\n",
       "      <th>country</th>\n",
       "      <th>lat</th>\n",
       "      <th>lng</th>\n",
       "      <th>c_1</th>\n",
       "      <th>c_2</th>\n",
       "      <th>...</th>\n",
       "      <th>c_94</th>\n",
       "      <th>c_95</th>\n",
       "      <th>c_96</th>\n",
       "      <th>c_97</th>\n",
       "      <th>c_98</th>\n",
       "      <th>c_99</th>\n",
       "      <th>c_100</th>\n",
       "      <th>c_other</th>\n",
       "      <th>year</th>\n",
       "      <th>month</th>\n",
       "    </tr>\n",
       "  </thead>\n",
       "  <tbody>\n",
       "    <tr>\n",
       "      <th>3137967</th>\n",
       "      <td>3206911916</td>\n",
       "      <td>3817662916</td>\n",
       "      <td>2012-06-07T14:00:00.000Z</td>\n",
       "      <td>-1</td>\n",
       "      <td>-1</td>\n",
       "      <td>-1</td>\n",
       "      <td>45.238</td>\n",
       "      <td>11.754</td>\n",
       "      <td>0</td>\n",
       "      <td>0</td>\n",
       "      <td>...</td>\n",
       "      <td>0</td>\n",
       "      <td>0</td>\n",
       "      <td>0</td>\n",
       "      <td>0</td>\n",
       "      <td>0</td>\n",
       "      <td>0</td>\n",
       "      <td>0</td>\n",
       "      <td>45</td>\n",
       "      <td>2012</td>\n",
       "      <td>6</td>\n",
       "    </tr>\n",
       "    <tr>\n",
       "      <th>3137968</th>\n",
       "      <td>3298484812</td>\n",
       "      <td>2119960237</td>\n",
       "      <td>2014-02-26T02:00:00.002Z</td>\n",
       "      <td>-1</td>\n",
       "      <td>-1</td>\n",
       "      <td>-1</td>\n",
       "      <td>0.000</td>\n",
       "      <td>0.000</td>\n",
       "      <td>0</td>\n",
       "      <td>0</td>\n",
       "      <td>...</td>\n",
       "      <td>0</td>\n",
       "      <td>0</td>\n",
       "      <td>0</td>\n",
       "      <td>0</td>\n",
       "      <td>0</td>\n",
       "      <td>0</td>\n",
       "      <td>0</td>\n",
       "      <td>8</td>\n",
       "      <td>2014</td>\n",
       "      <td>2</td>\n",
       "    </tr>\n",
       "    <tr>\n",
       "      <th>3137969</th>\n",
       "      <td>1331217755</td>\n",
       "      <td>1149466221</td>\n",
       "      <td>2012-12-02T07:30:00.002Z</td>\n",
       "      <td>-1</td>\n",
       "      <td>-1</td>\n",
       "      <td>-1</td>\n",
       "      <td>0.000</td>\n",
       "      <td>0.000</td>\n",
       "      <td>0</td>\n",
       "      <td>0</td>\n",
       "      <td>...</td>\n",
       "      <td>0</td>\n",
       "      <td>0</td>\n",
       "      <td>0</td>\n",
       "      <td>0</td>\n",
       "      <td>0</td>\n",
       "      <td>0</td>\n",
       "      <td>0</td>\n",
       "      <td>2</td>\n",
       "      <td>2012</td>\n",
       "      <td>12</td>\n",
       "    </tr>\n",
       "    <tr>\n",
       "      <th>3137970</th>\n",
       "      <td>1627348069</td>\n",
       "      <td>3748671867</td>\n",
       "      <td>2012-10-20T04:00:00.003Z</td>\n",
       "      <td>44247</td>\n",
       "      <td>51357</td>\n",
       "      <td>20893</td>\n",
       "      <td>33.857</td>\n",
       "      <td>-118.391</td>\n",
       "      <td>2</td>\n",
       "      <td>3</td>\n",
       "      <td>...</td>\n",
       "      <td>1</td>\n",
       "      <td>0</td>\n",
       "      <td>0</td>\n",
       "      <td>0</td>\n",
       "      <td>0</td>\n",
       "      <td>1</td>\n",
       "      <td>1</td>\n",
       "      <td>51</td>\n",
       "      <td>2012</td>\n",
       "      <td>10</td>\n",
       "    </tr>\n",
       "    <tr>\n",
       "      <th>3137971</th>\n",
       "      <td>1373240562</td>\n",
       "      <td>3334738518</td>\n",
       "      <td>2013-02-14T20:00:00.002Z</td>\n",
       "      <td>-1</td>\n",
       "      <td>-1</td>\n",
       "      <td>-1</td>\n",
       "      <td>0.000</td>\n",
       "      <td>0.000</td>\n",
       "      <td>0</td>\n",
       "      <td>0</td>\n",
       "      <td>...</td>\n",
       "      <td>0</td>\n",
       "      <td>0</td>\n",
       "      <td>0</td>\n",
       "      <td>0</td>\n",
       "      <td>0</td>\n",
       "      <td>0</td>\n",
       "      <td>0</td>\n",
       "      <td>1</td>\n",
       "      <td>2013</td>\n",
       "      <td>2</td>\n",
       "    </tr>\n",
       "  </tbody>\n",
       "</table>\n",
       "<p>5 rows × 111 columns</p>\n",
       "</div>"
      ],
      "text/plain": [
       "           event_id     user_id                start_time   city  state  \\\n",
       "3137967  3206911916  3817662916  2012-06-07T14:00:00.000Z     -1     -1   \n",
       "3137968  3298484812  2119960237  2014-02-26T02:00:00.002Z     -1     -1   \n",
       "3137969  1331217755  1149466221  2012-12-02T07:30:00.002Z     -1     -1   \n",
       "3137970  1627348069  3748671867  2012-10-20T04:00:00.003Z  44247  51357   \n",
       "3137971  1373240562  3334738518  2013-02-14T20:00:00.002Z     -1     -1   \n",
       "\n",
       "         country     lat      lng  c_1  c_2  ...    c_94  c_95  c_96  c_97  \\\n",
       "3137967       -1  45.238   11.754    0    0  ...       0     0     0     0   \n",
       "3137968       -1   0.000    0.000    0    0  ...       0     0     0     0   \n",
       "3137969       -1   0.000    0.000    0    0  ...       0     0     0     0   \n",
       "3137970    20893  33.857 -118.391    2    3  ...       1     0     0     0   \n",
       "3137971       -1   0.000    0.000    0    0  ...       0     0     0     0   \n",
       "\n",
       "         c_98  c_99  c_100  c_other  year  month  \n",
       "3137967     0     0      0       45  2012      6  \n",
       "3137968     0     0      0        8  2014      2  \n",
       "3137969     0     0      0        2  2012     12  \n",
       "3137970     0     1      1       51  2012     10  \n",
       "3137971     0     0      0        1  2013      2  \n",
       "\n",
       "[5 rows x 111 columns]"
      ]
     },
     "execution_count": 638,
     "metadata": {},
     "output_type": "execute_result"
    }
   ],
   "source": [
    "dfevents.tail()"
   ]
  },
  {
   "cell_type": "code",
   "execution_count": 645,
   "metadata": {
    "collapsed": false
   },
   "outputs": [],
   "source": [
    "#只考虑train.csv中出现过的event\n",
    "eventpropmatrix = np.zeros((len(dfevents),7))\n",
    "for i in range(len(dfusers)):\n",
    "    event = dfevents.event_id[i]\n",
    "    if eventindex.has_key(event):\n",
    "        row = eventindex[event]\n",
    "        eventpropmatrix[row,0] = dfevents.city[i]\n",
    "        eventpropmatrix[row,1] = dfevents.state[i]\n",
    "        eventpropmatrix[row,2] = dfevents.country[i]\n",
    "        eventpropmatrix[row,3] = dfevents.lat[i]\n",
    "        eventpropmatrix[row,4] = dfevents.lng[i]\n",
    "        eventpropmatrix[row,5] = dfevents.year[i]\n",
    "        eventpropmatrix[row,6] = dfevents.month[i]\n",
    "#归一化矩阵\n",
    "eventpropmatrix = normalize(eventpropmatrix, norm=\"l1\", axis=0, copy=False)"
   ]
  },
  {
   "cell_type": "code",
   "execution_count": 630,
   "metadata": {
    "collapsed": false
   },
   "outputs": [],
   "source": [
    "eventcontmatrix = np.zeros((len(dfevents),101))\n",
    "for i in range(len(dfevents)):\n",
    "    event = dfevents.event_id[i]\n",
    "    if eventindex.has_key(event):\n",
    "        row = eventindex[event]\n",
    "        for j in range(0,101):\n",
    "            colname = dfevents.columns[j+8]\n",
    "            eventcontmatrix[row, j] = dfevents[colname][i]\n",
    "#归一化矩阵\n",
    "eventcontmatrix = normalize(eventcontmatrix, norm=\"l1\", axis=0, copy=False)"
   ]
  },
  {
   "cell_type": "code",
   "execution_count": null,
   "metadata": {
    "collapsed": false
   },
   "outputs": [],
   "source": [
    "'''\n",
    "  皮尔森相似度和修正的余弦相似度的区别在于分母，皮尔森相似度长度是i，j同时打分的项目的长度，余弦是i打分的项目和j打分的项目）\n",
    "  1.如果数据密集（所有数据几乎都有属性值，属性值量级重要），就用欧几里德算法\n",
    "  2.数据受级别膨胀影响（不同的用户使用不同的评分标准），就用皮尔逊相关系数或者修正的余弦相似度算法\n",
    "  3.数据稀疏性强，就考虑用夹角余弦相似度算法\n",
    "  \n",
    "  因为这里是计算event-event的相似度，event的属性是客观的，不受用户评分习惯的影响，因此可以用余弦相似度\n",
    "'''"
   ]
  },
  {
   "cell_type": "code",
   "execution_count": 651,
   "metadata": {
    "collapsed": false
   },
   "outputs": [],
   "source": [
    "#计算event-event相似度\n",
    "eventpropsimmatrix = np.zeros((len(uniqueevent),len(uniqueevent)))\n",
    "for i in range(0,eventpropsimmatrix.shape[0]):\n",
    "    eventpropsimmatrix[i, i] = 1.0\n",
    "for event1, event2 in uniqueeventpair:\n",
    "    row = eventindex[event1]\n",
    "    col = eventindex[event2]\n",
    "    sim = ssd.cosine(eventpropmatrix[row],eventpropmatrix[col])\n",
    "    eventpropsimmatrix[row, col] = sim\n",
    "    eventpropsimmatrix[col, row] = sim\n",
    "eventcontsimmatrix = np.zeros((len(uniqueevent),len(uniqueevent)))\n",
    "for i in range(0,eventcontsimmatrix.shape[0]):\n",
    "    eventcontsimmatrix[i, i] = 1.0\n",
    "for event1, event2 in uniqueeventpair:\n",
    "    row = eventindex[event1]\n",
    "    col = eventindex[event2]\n",
    "    sim = ssd.cosine(eventcontmatrix[row],eventcontmatrix[col])\n",
    "    eventcontsimmatrix[row, col] = sim\n",
    "    eventcontsimmatrix[col, row] = sim"
   ]
  },
  {
   "cell_type": "code",
   "execution_count": 649,
   "metadata": {
    "collapsed": false
   },
   "outputs": [
    {
     "data": {
      "text/plain": [
       "array([[  1.,  nan,  nan, ...,   0.,   0.,   0.],\n",
       "       [ nan,   1.,  nan, ...,   0.,   0.,   0.],\n",
       "       [ nan,  nan,   1., ...,   0.,   0.,   0.],\n",
       "       ..., \n",
       "       [  0.,   0.,   0., ...,   1.,  nan,  nan],\n",
       "       [  0.,   0.,   0., ...,  nan,   1.,  nan],\n",
       "       [  0.,   0.,   0., ...,  nan,  nan,   1.]])"
      ]
     },
     "execution_count": 649,
     "metadata": {},
     "output_type": "execute_result"
    }
   ],
   "source": [
    "eventpropsimmatrix"
   ]
  },
  {
   "cell_type": "code",
   "execution_count": 447,
   "metadata": {
    "collapsed": false
   },
   "outputs": [
    {
     "name": "stdout",
     "output_type": "stream",
     "text": [
      "查看user_friends数据\n"
     ]
    },
    {
     "data": {
      "text/html": [
       "<div>\n",
       "<table border=\"1\" class=\"dataframe\">\n",
       "  <thead>\n",
       "    <tr style=\"text-align: right;\">\n",
       "      <th></th>\n",
       "      <th>user</th>\n",
       "      <th>friends</th>\n",
       "    </tr>\n",
       "  </thead>\n",
       "  <tbody>\n",
       "    <tr>\n",
       "      <th>0</th>\n",
       "      <td>3197468391</td>\n",
       "      <td>1346449342 3873244116 4226080662 1222907620 54...</td>\n",
       "    </tr>\n",
       "    <tr>\n",
       "      <th>1</th>\n",
       "      <td>3537982273</td>\n",
       "      <td>1491560444 395798035 2036380346 899375619 3534...</td>\n",
       "    </tr>\n",
       "    <tr>\n",
       "      <th>2</th>\n",
       "      <td>823183725</td>\n",
       "      <td>1484954627 1950387873 1652977611 4185960823 42...</td>\n",
       "    </tr>\n",
       "    <tr>\n",
       "      <th>3</th>\n",
       "      <td>1872223848</td>\n",
       "      <td>83361640 723814682 557944478 1724049724 253059...</td>\n",
       "    </tr>\n",
       "    <tr>\n",
       "      <th>4</th>\n",
       "      <td>3429017717</td>\n",
       "      <td>4253303705 2130310957 1838389374 3928735761 71...</td>\n",
       "    </tr>\n",
       "  </tbody>\n",
       "</table>\n",
       "</div>"
      ],
      "text/plain": [
       "         user                                            friends\n",
       "0  3197468391  1346449342 3873244116 4226080662 1222907620 54...\n",
       "1  3537982273  1491560444 395798035 2036380346 899375619 3534...\n",
       "2   823183725  1484954627 1950387873 1652977611 4185960823 42...\n",
       "3  1872223848  83361640 723814682 557944478 1724049724 253059...\n",
       "4  3429017717  4253303705 2130310957 1838389374 3928735761 71..."
      ]
     },
     "execution_count": 447,
     "metadata": {},
     "output_type": "execute_result"
    }
   ],
   "source": [
    "print '查看user_friends数据'\n",
    "user_friends.head()"
   ]
  },
  {
   "cell_type": "code",
   "execution_count": 448,
   "metadata": {
    "collapsed": false
   },
   "outputs": [
    {
     "name": "stdout",
     "output_type": "stream",
     "text": [
      "处理user_friends数据\n"
     ]
    }
   ],
   "source": [
    "print \"处理user_friends数据\""
   ]
  },
  {
   "cell_type": "code",
   "execution_count": 513,
   "metadata": {
    "collapsed": false
   },
   "outputs": [],
   "source": [
    "\"user-friend矩阵表示user朋友多少和朋友是否乐意参与活动，row是user，col是user的朋友，第i行第j列是user i的j朋友对他的影响\"\n",
    "userfriendmatrix = np.zeros((len(userindex),len(userindex)))\n",
    "for i in range(len(user_friends)):\n",
    "    user = user_friends.user[i]\n",
    "    if userindex.has_key(user):\n",
    "        row = userindex[user]\n",
    "        friendlist = user_friends.friends[i].split(\" \")\n",
    "        for friend in friendlist:\n",
    "            if userindex.has_key(friend):\n",
    "                j = userindex[friend]\n",
    "                sim = float(usereventscores[i].sum())/usereventscores[i].shape[0]                           \n",
    "                userfriendmatrix[row,j] = sim"
   ]
  },
  {
   "cell_type": "code",
   "execution_count": 479,
   "metadata": {
    "collapsed": false
   },
   "outputs": [],
   "source": [
    "'''\n",
    "userfriendmatrix 全部为0,也就是说user的朋友没有在训练集的，只能通过统计user有多少个朋友来判断是否外向，\n",
    "但这样是不怎么合理的，因为一个user可以有很多不爱参加活动的朋友\n",
    "'''"
   ]
  },
  {
   "cell_type": "code",
   "execution_count": 548,
   "metadata": {
    "collapsed": false
   },
   "outputs": [
    {
     "name": "stderr",
     "output_type": "stream",
     "text": [
      "/Users/houxiaohui/anaconda/lib/python2.7/site-packages/sklearn/utils/validation.py:386: DeprecationWarning: Passing 1d arrays as data is deprecated in 0.17 and willraise ValueError in 0.19. Reshape your data either using X.reshape(-1, 1) if your data has a single feature or X.reshape(1, -1) if it contains a single sample.\n",
      "  DeprecationWarning)\n"
     ]
    }
   ],
   "source": [
    "userfriendcount = np.zeros(len(userindex))\n",
    "for i in range(len(user_friends)):\n",
    "    user = user_friends.user[i]\n",
    "    if userindex.has_key(user):\n",
    "        row = userindex[user]\n",
    "        friendlist = user_friends.friends[i].split(\" \")\n",
    "        userfriendcount[row] = len(friendlist)\n",
    "#归一化矩阵\n",
    "userfriendcount = normalize(userfriendcount,norm='l1')"
   ]
  },
  {
   "cell_type": "code",
   "execution_count": 543,
   "metadata": {
    "collapsed": false
   },
   "outputs": [
    {
     "name": "stdout",
     "output_type": "stream",
     "text": [
      "查看event_attendees数据\n"
     ]
    },
    {
     "data": {
      "text/html": [
       "<div>\n",
       "<table border=\"1\" class=\"dataframe\">\n",
       "  <thead>\n",
       "    <tr style=\"text-align: right;\">\n",
       "      <th></th>\n",
       "      <th>event</th>\n",
       "      <th>yes</th>\n",
       "      <th>maybe</th>\n",
       "      <th>invited</th>\n",
       "      <th>no</th>\n",
       "    </tr>\n",
       "  </thead>\n",
       "  <tbody>\n",
       "    <tr>\n",
       "      <th>0</th>\n",
       "      <td>1159822043</td>\n",
       "      <td>1975964455 252302513 4226086795 3805886383 142...</td>\n",
       "      <td>2733420590 517546982 1350834692 532087573 5831...</td>\n",
       "      <td>1723091036 3795873583 4109144917 3560622906 31...</td>\n",
       "      <td>3575574655 1077296663</td>\n",
       "    </tr>\n",
       "    <tr>\n",
       "      <th>1</th>\n",
       "      <td>686467261</td>\n",
       "      <td>2394228942 2686116898 1056558062 3792942231 41...</td>\n",
       "      <td>1498184352 645689144 3770076778 331335845 4239...</td>\n",
       "      <td>1788073374 733302094 1830571649 676508092 7081...</td>\n",
       "      <td>0</td>\n",
       "    </tr>\n",
       "    <tr>\n",
       "      <th>2</th>\n",
       "      <td>1186208412</td>\n",
       "      <td>0</td>\n",
       "      <td>3320380166 3810793697</td>\n",
       "      <td>1379121209 440668682</td>\n",
       "      <td>1728988561 2950720854</td>\n",
       "    </tr>\n",
       "    <tr>\n",
       "      <th>3</th>\n",
       "      <td>2621578336</td>\n",
       "      <td>0</td>\n",
       "      <td>0</td>\n",
       "      <td>0</td>\n",
       "      <td>0</td>\n",
       "    </tr>\n",
       "    <tr>\n",
       "      <th>4</th>\n",
       "      <td>855842686</td>\n",
       "      <td>2406118796 3550897984 294255260 1125817077 109...</td>\n",
       "      <td>2671721559 1761448345 2356975806 2666669465 10...</td>\n",
       "      <td>1518670705 880919237 2326414227 2673818347 332...</td>\n",
       "      <td>3500235232</td>\n",
       "    </tr>\n",
       "  </tbody>\n",
       "</table>\n",
       "</div>"
      ],
      "text/plain": [
       "        event                                                yes  \\\n",
       "0  1159822043  1975964455 252302513 4226086795 3805886383 142...   \n",
       "1   686467261  2394228942 2686116898 1056558062 3792942231 41...   \n",
       "2  1186208412                                                  0   \n",
       "3  2621578336                                                  0   \n",
       "4   855842686  2406118796 3550897984 294255260 1125817077 109...   \n",
       "\n",
       "                                               maybe  \\\n",
       "0  2733420590 517546982 1350834692 532087573 5831...   \n",
       "1  1498184352 645689144 3770076778 331335845 4239...   \n",
       "2                              3320380166 3810793697   \n",
       "3                                                  0   \n",
       "4  2671721559 1761448345 2356975806 2666669465 10...   \n",
       "\n",
       "                                             invited                     no  \n",
       "0  1723091036 3795873583 4109144917 3560622906 31...  3575574655 1077296663  \n",
       "1  1788073374 733302094 1830571649 676508092 7081...                      0  \n",
       "2                               1379121209 440668682  1728988561 2950720854  \n",
       "3                                                  0                      0  \n",
       "4  1518670705 880919237 2326414227 2673818347 332...             3500235232  "
      ]
     },
     "execution_count": 543,
     "metadata": {},
     "output_type": "execute_result"
    }
   ],
   "source": [
    "print '查看event_attendees数据'\n",
    "event_attendees = event_attendees.fillna(0)\n",
    "event_attendees.head()"
   ]
  },
  {
   "cell_type": "code",
   "execution_count": 554,
   "metadata": {
    "collapsed": false
   },
   "outputs": [
    {
     "name": "stdout",
     "output_type": "stream",
     "text": [
      "处理event_attendees数据,计算event流行度矩阵\n"
     ]
    }
   ],
   "source": [
    "print \"处理event_attendees数据,计算event流行度矩阵\"\n",
    "eventpopularity = np.zeros((len(eventindex),1))\n",
    "for i in range(len(event_attendees)):\n",
    "    event = event_attendees.event[i]\n",
    "    if eventindex.has_key(event):\n",
    "        row = eventindex[event]\n",
    "        try:\n",
    "            num_yes = len(event_attendees.yes[i].split(\" \"))\n",
    "        except:\n",
    "            num_yes = 0\n",
    "        try:\n",
    "            num_no = len(event_attendees.no[i].split(\" \"))\n",
    "        except:\n",
    "            num_no = 0\n",
    "        eventpopularity[row,0] = num_yes-num_no\n",
    "eventpopularity = normalize( eventpopularity,norm='l2')"
   ]
  },
  {
   "cell_type": "markdown",
   "metadata": {},
   "source": [
    "## 利用协同过滤进行推荐"
   ]
  },
  {
   "cell_type": "code",
   "execution_count": 632,
   "metadata": {
    "collapsed": false
   },
   "outputs": [
    {
     "name": "stdout",
     "output_type": "stream",
     "text": [
      "不懂为什么要减去原来的usereventscores\n"
     ]
    }
   ],
   "source": [
    "print \"不懂为什么要减去原来的usereventscores\"\n",
    "#userbaseCF = usereventscores.T.dot(usersimmatrix).T - usereventscores\n",
    "itembaseCFprob = usereventscores.dot(eventpropsimmatrix)- usereventscores\n",
    "itembaseCFcont = usereventscores.dot(eventcontsimmatrix)- usereventscores"
   ]
  },
  {
   "cell_type": "code",
   "execution_count": 711,
   "metadata": {
    "collapsed": false
   },
   "outputs": [
    {
     "name": "stdout",
     "output_type": "stream",
     "text": [
      "查看train数据\n"
     ]
    },
    {
     "data": {
      "text/html": [
       "<div>\n",
       "<table border=\"1\" class=\"dataframe\">\n",
       "  <thead>\n",
       "    <tr style=\"text-align: right;\">\n",
       "      <th></th>\n",
       "      <th>user</th>\n",
       "      <th>event</th>\n",
       "      <th>invited</th>\n",
       "      <th>timestamp</th>\n",
       "      <th>interested</th>\n",
       "      <th>not_interested</th>\n",
       "    </tr>\n",
       "  </thead>\n",
       "  <tbody>\n",
       "    <tr>\n",
       "      <th>0</th>\n",
       "      <td>3044012</td>\n",
       "      <td>1918771225</td>\n",
       "      <td>0</td>\n",
       "      <td>2012-10-02 15:53:05.754000+00:00</td>\n",
       "      <td>0</td>\n",
       "      <td>0</td>\n",
       "    </tr>\n",
       "    <tr>\n",
       "      <th>1</th>\n",
       "      <td>3044012</td>\n",
       "      <td>1502284248</td>\n",
       "      <td>0</td>\n",
       "      <td>2012-10-02 15:53:05.754000+00:00</td>\n",
       "      <td>0</td>\n",
       "      <td>0</td>\n",
       "    </tr>\n",
       "    <tr>\n",
       "      <th>2</th>\n",
       "      <td>3044012</td>\n",
       "      <td>2529072432</td>\n",
       "      <td>0</td>\n",
       "      <td>2012-10-02 15:53:05.754000+00:00</td>\n",
       "      <td>1</td>\n",
       "      <td>0</td>\n",
       "    </tr>\n",
       "    <tr>\n",
       "      <th>3</th>\n",
       "      <td>3044012</td>\n",
       "      <td>3072478280</td>\n",
       "      <td>0</td>\n",
       "      <td>2012-10-02 15:53:05.754000+00:00</td>\n",
       "      <td>0</td>\n",
       "      <td>0</td>\n",
       "    </tr>\n",
       "    <tr>\n",
       "      <th>4</th>\n",
       "      <td>3044012</td>\n",
       "      <td>1390707377</td>\n",
       "      <td>0</td>\n",
       "      <td>2012-10-02 15:53:05.754000+00:00</td>\n",
       "      <td>0</td>\n",
       "      <td>0</td>\n",
       "    </tr>\n",
       "  </tbody>\n",
       "</table>\n",
       "</div>"
      ],
      "text/plain": [
       "      user       event  invited                         timestamp  interested  \\\n",
       "0  3044012  1918771225        0  2012-10-02 15:53:05.754000+00:00           0   \n",
       "1  3044012  1502284248        0  2012-10-02 15:53:05.754000+00:00           0   \n",
       "2  3044012  2529072432        0  2012-10-02 15:53:05.754000+00:00           1   \n",
       "3  3044012  3072478280        0  2012-10-02 15:53:05.754000+00:00           0   \n",
       "4  3044012  1390707377        0  2012-10-02 15:53:05.754000+00:00           0   \n",
       "\n",
       "   not_interested  \n",
       "0               0  \n",
       "1               0  \n",
       "2               0  \n",
       "3               0  \n",
       "4               0  "
      ]
     },
     "execution_count": 711,
     "metadata": {},
     "output_type": "execute_result"
    }
   ],
   "source": [
    "print '查看train数据'\n",
    "train.head()"
   ]
  },
  {
   "cell_type": "code",
   "execution_count": 713,
   "metadata": {
    "collapsed": false
   },
   "outputs": [],
   "source": [
    "'''\n",
    "itemprobcf太稀疏\n",
    "'''\n",
    "def getdata(table):\n",
    "    usercflist = []\n",
    "    itemprobcflist = []\n",
    "    itemcontcflist = []\n",
    "    eventpopularitylist = []\n",
    "    userfriendlist = []\n",
    "    for i in range(len(table)):\n",
    "        user = table.user[i]\n",
    "        event = table.event[i]\n",
    "        uix = userindex[user]\n",
    "        eix = eventindex[event]\n",
    "        usercflist.append(userbaseCF[uix, eix])\n",
    "        itemprobcflist.append(itembaseCFprob[uix, eix])\n",
    "        itemcontcflist.append(itembaseCFcont[uix, eix])\n",
    "        eventpopularitylist.append(eventpopularity[eix][0])\n",
    "        userfriendlist.append(userfriendcount[0][uix])\n",
    "    table['usercf'] = usercflist\n",
    "    table['itemprobcf'] = itemprobcflist\n",
    "    table['itemcontcf'] = itemcontcflist\n",
    "    table['eventpopularity'] = eventpopularitylist\n",
    "    table['userfriend'] = userfriendlist"
   ]
  },
  {
   "cell_type": "code",
   "execution_count": 714,
   "metadata": {
    "collapsed": false
   },
   "outputs": [],
   "source": [
    "getdata(train)"
   ]
  },
  {
   "cell_type": "code",
   "execution_count": 715,
   "metadata": {
    "collapsed": false
   },
   "outputs": [
    {
     "name": "stdout",
     "output_type": "stream",
     "text": [
      "8\n",
      "item prob 协同过滤计算的相似度过于稀疏，只有8个值，因此drop这一列\n"
     ]
    }
   ],
   "source": [
    "print sum(train.itemprobcf.notnull())\n",
    "print  \"item prob 协同过滤计算的相似度过于稀疏，只有8个值，因此drop这一列\"\n",
    "train = train.drop(['itemprobcf'],axis=1)"
   ]
  },
  {
   "cell_type": "markdown",
   "metadata": {},
   "source": [
    "## 建模与预测 "
   ]
  },
  {
   "cell_type": "code",
   "execution_count": 677,
   "metadata": {
    "collapsed": false
   },
   "outputs": [],
   "source": [
    "from sklearn.cross_validation import KFold\n",
    "from sklearn.linear_model import SGDClassifier\n",
    "from sklearn.metrics import accuracy_score"
   ]
  },
  {
   "cell_type": "code",
   "execution_count": 663,
   "metadata": {
    "collapsed": false
   },
   "outputs": [
    {
     "data": {
      "text/html": [
       "<div>\n",
       "<table border=\"1\" class=\"dataframe\">\n",
       "  <thead>\n",
       "    <tr style=\"text-align: right;\">\n",
       "      <th></th>\n",
       "      <th>user</th>\n",
       "      <th>event</th>\n",
       "      <th>invited</th>\n",
       "      <th>timestamp</th>\n",
       "      <th>interested</th>\n",
       "      <th>not_interested</th>\n",
       "      <th>testtrain</th>\n",
       "      <th>usercf</th>\n",
       "      <th>itemcontcf</th>\n",
       "      <th>eventpopularity</th>\n",
       "      <th>userfriend</th>\n",
       "    </tr>\n",
       "  </thead>\n",
       "  <tbody>\n",
       "    <tr>\n",
       "      <th>0</th>\n",
       "      <td>3044012</td>\n",
       "      <td>1918771225</td>\n",
       "      <td>0</td>\n",
       "      <td>2012-10-02 15:53:05.754000+00:00</td>\n",
       "      <td>0</td>\n",
       "      <td>0</td>\n",
       "      <td>train</td>\n",
       "      <td>0.000000</td>\n",
       "      <td>0.973027</td>\n",
       "      <td>-1.0</td>\n",
       "      <td>0.000389</td>\n",
       "    </tr>\n",
       "    <tr>\n",
       "      <th>1</th>\n",
       "      <td>3044012</td>\n",
       "      <td>1502284248</td>\n",
       "      <td>0</td>\n",
       "      <td>2012-10-02 15:53:05.754000+00:00</td>\n",
       "      <td>0</td>\n",
       "      <td>0</td>\n",
       "      <td>train</td>\n",
       "      <td>0.000000</td>\n",
       "      <td>0.551433</td>\n",
       "      <td>1.0</td>\n",
       "      <td>0.000389</td>\n",
       "    </tr>\n",
       "    <tr>\n",
       "      <th>2</th>\n",
       "      <td>3044012</td>\n",
       "      <td>2529072432</td>\n",
       "      <td>0</td>\n",
       "      <td>2012-10-02 15:53:05.754000+00:00</td>\n",
       "      <td>1</td>\n",
       "      <td>0</td>\n",
       "      <td>train</td>\n",
       "      <td>95.937195</td>\n",
       "      <td>0.000000</td>\n",
       "      <td>1.0</td>\n",
       "      <td>0.000389</td>\n",
       "    </tr>\n",
       "    <tr>\n",
       "      <th>3</th>\n",
       "      <td>3044012</td>\n",
       "      <td>3072478280</td>\n",
       "      <td>0</td>\n",
       "      <td>2012-10-02 15:53:05.754000+00:00</td>\n",
       "      <td>0</td>\n",
       "      <td>0</td>\n",
       "      <td>train</td>\n",
       "      <td>0.000000</td>\n",
       "      <td>0.802974</td>\n",
       "      <td>1.0</td>\n",
       "      <td>0.000389</td>\n",
       "    </tr>\n",
       "    <tr>\n",
       "      <th>4</th>\n",
       "      <td>3044012</td>\n",
       "      <td>1390707377</td>\n",
       "      <td>0</td>\n",
       "      <td>2012-10-02 15:53:05.754000+00:00</td>\n",
       "      <td>0</td>\n",
       "      <td>0</td>\n",
       "      <td>train</td>\n",
       "      <td>19.063354</td>\n",
       "      <td>0.979817</td>\n",
       "      <td>1.0</td>\n",
       "      <td>0.000389</td>\n",
       "    </tr>\n",
       "  </tbody>\n",
       "</table>\n",
       "</div>"
      ],
      "text/plain": [
       "      user       event  invited                         timestamp  interested  \\\n",
       "0  3044012  1918771225        0  2012-10-02 15:53:05.754000+00:00           0   \n",
       "1  3044012  1502284248        0  2012-10-02 15:53:05.754000+00:00           0   \n",
       "2  3044012  2529072432        0  2012-10-02 15:53:05.754000+00:00           1   \n",
       "3  3044012  3072478280        0  2012-10-02 15:53:05.754000+00:00           0   \n",
       "4  3044012  1390707377        0  2012-10-02 15:53:05.754000+00:00           0   \n",
       "\n",
       "   not_interested testtrain     usercf  itemcontcf  eventpopularity  \\\n",
       "0               0     train   0.000000    0.973027             -1.0   \n",
       "1               0     train   0.000000    0.551433              1.0   \n",
       "2               0     train  95.937195    0.000000              1.0   \n",
       "3               0     train   0.000000    0.802974              1.0   \n",
       "4               0     train  19.063354    0.979817              1.0   \n",
       "\n",
       "   userfriend  \n",
       "0    0.000389  \n",
       "1    0.000389  \n",
       "2    0.000389  \n",
       "3    0.000389  \n",
       "4    0.000389  "
      ]
     },
     "execution_count": 663,
     "metadata": {},
     "output_type": "execute_result"
    }
   ],
   "source": [
    "train.head()"
   ]
  },
  {
   "cell_type": "code",
   "execution_count": 716,
   "metadata": {
    "collapsed": false
   },
   "outputs": [],
   "source": [
    "features = ['invited','usercf','itemcontcf','eventpopularity','userfriend']\n",
    "y = train\n",
    "x = train[features]\n",
    "clf = SGDClassifier(loss=\"log\", penalty=\"l2\")"
   ]
  },
  {
   "cell_type": "code",
   "execution_count": 710,
   "metadata": {
    "collapsed": false
   },
   "outputs": [
    {
     "name": "stdout",
     "output_type": "stream",
     "text": [
      "正确率为63.0584415584%\n"
     ]
    }
   ],
   "source": [
    "kf = KFold(len(train),5)\n",
    "accuracy  = 0.0\n",
    "X = np.matrix(x)\n",
    "for u, v in kf:\n",
    "    X_train, X_test, y_train, y_test = X[u], X[v], y[u], y[v]\n",
    "    clf.fit(X_train,y_train)\n",
    "    y_hat = clf.predict(X_test)\n",
    "    accuracy += accuracy_score(y_test,y_hat)\n",
    "print \"正确率为{}%\".format(accuracy/5*100)"
   ]
  },
  {
   "cell_type": "markdown",
   "metadata": {
    "collapsed": false
   },
   "source": [
    "可以改进的地方：\n",
    "1. 通过location获得经纬度，从而算出event和user的距离,通过反馈发现，location distance很重要\n",
    "2. event_popularity通过参加的人数-不参加的人数算出，但interested和invited也应该考虑\n",
    "   ”yes“的人数+0.5*”maybe“的人数+0.2*”invited“的人数-”no“的人数\n",
    "3. 利用user_friends 和 event_attendees计算相似度 \n",
    "    event1和event2相似因为yes，maybe，invited的user有很大的交集\n",
    "    user1和user2相似是因为user的yes，maybe，invited的event有很大的交集\n",
    "4. timestamp可以抽取是否周末，活动邀请时间和user看到的时间，是否节假日，是否夜晚\n",
    "5. l1正则化改为L2正则化\n",
    "6. events中的c1-cother可以先聚类或者先pca"
   ]
  },
  {
   "cell_type": "code",
   "execution_count": null,
   "metadata": {
    "collapsed": false
   },
   "outputs": [],
   "source": []
  },
  {
   "cell_type": "code",
   "execution_count": null,
   "metadata": {
    "collapsed": true
   },
   "outputs": [],
   "source": []
  }
 ],
 "metadata": {
  "anaconda-cloud": {},
  "kernelspec": {
   "display_name": "Python [Root]",
   "language": "python",
   "name": "Python [Root]"
  },
  "language_info": {
   "codemirror_mode": {
    "name": "ipython",
    "version": 2
   },
   "file_extension": ".py",
   "mimetype": "text/x-python",
   "name": "python",
   "nbconvert_exporter": "python",
   "pygments_lexer": "ipython2",
   "version": "2.7.12"
  }
 },
 "nbformat": 4,
 "nbformat_minor": 0
}
